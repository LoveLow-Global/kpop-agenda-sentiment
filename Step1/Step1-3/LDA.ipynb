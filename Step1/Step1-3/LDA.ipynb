{
 "cells": [
  {
   "cell_type": "code",
   "execution_count": null,
   "metadata": {},
   "outputs": [],
   "source": [
    "import pandas as pd\n",
    "from konlpy.tag import Okt\n",
    "from sklearn.feature_extraction.text import CountVectorizer\n",
    "from sklearn.decomposition import LatentDirichletAllocation"
   ]
  },
  {
   "cell_type": "code",
   "execution_count": null,
   "metadata": {},
   "outputs": [],
   "source": [
    "# Define file paths using double backslashes\n",
    "input_file = \"C:\\\\Users\\\\WINDOWS11\\\\Desktop\\\\kpop_agenda\\\\Step1\\\\metadata_top300_filtered.tsv\"\n",
    "output_file = \"C:\\\\Users\\\\WINDOWS11\\\\Desktop\\\\kpop_agenda\\\\Step1\\\\metadata_top300_filtered_with_topics.tsv\""
   ]
  },
  {
   "cell_type": "code",
   "execution_count": null,
   "metadata": {},
   "outputs": [],
   "source": [
    "\n",
    "\n",
    "# Load the metadata TSV file\n",
    "df = pd.read_csv(input_file, sep=\"\\t\")\n",
    "\n",
    "# Initialize the Korean tokenizer\n",
    "okt = Okt()\n",
    "\n",
    "# Function to read text content from a file path\n",
    "def read_article(file_path):\n",
    "    try:\n",
    "        with open(file_path, 'r', encoding='utf-8') as f:\n",
    "            return f.read()\n",
    "    except Exception as e:\n",
    "        print(f\"Error reading {file_path}: {e}\")\n",
    "        return \"\""
   ]
  },
  {
   "cell_type": "code",
   "execution_count": null,
   "metadata": {},
   "outputs": [],
   "source": [
    "# Preprocessing function for Korean text using KoNLPy's Okt\n",
    "def preprocess_text(text):\n",
    "    # Tokenize text into morphemes\n",
    "    tokens = okt.morphs(text)\n",
    "    # Join tokens back into a space-separated string\n",
    "    return \" \".join(tokens)\n",
    "\n",
    "# Read and preprocess each article\n",
    "documents = []\n",
    "for idx, row in df.iterrows():\n",
    "    # Adjust the column name if necessary\n",
    "    file_path = row['file_path']\n",
    "    raw_text = read_article(file_path)\n",
    "    processed_text = preprocess_text(raw_text)\n",
    "    documents.append(processed_text)"
   ]
  },
  {
   "cell_type": "code",
   "execution_count": null,
   "metadata": {},
   "outputs": [],
   "source": [
    "# Create a document-term matrix using CountVectorizer.\n",
    "# Since the text is already tokenized (tokens are space-separated),\n",
    "# we can simply split on whitespace.\n",
    "vectorizer = CountVectorizer(tokenizer=lambda x: x.split(), min_df=5)\n",
    "doc_term_matrix = vectorizer.fit_transform(documents)\n",
    "\n",
    "# Define number of topics (choose a value between 5 and 10)\n",
    "num_topics = 7  # Adjust as needed\n",
    "lda = LatentDirichletAllocation(n_components=num_topics, random_state=42)\n",
    "lda.fit(doc_term_matrix)\n",
    "\n",
    "# Assign each document its dominant topic based on the highest probability\n",
    "topic_distributions = lda.transform(doc_term_matrix)\n",
    "dominant_topics = topic_distributions.argmax(axis=1)\n",
    "df['dominant_topic'] = dominant_topics"
   ]
  },
  {
   "cell_type": "code",
   "execution_count": null,
   "metadata": {},
   "outputs": [],
   "source": [
    "# Top words for each topic\n",
    "def print_top_words(model, feature_names, n_top_words):\n",
    "    for topic_idx, topic in enumerate(model.components_):\n",
    "        top_words = \" \".join([feature_names[i] for i in topic.argsort()[:-n_top_words - 1:-1]])\n",
    "        print(f\"Topic #{topic_idx}: {top_words}\")\n",
    "\n",
    "n_top_words = 10\n",
    "feature_names = vectorizer.get_feature_names_out()\n",
    "print_top_words(lda, feature_names, n_top_words)\n",
    "\n",
    "# Save the updated metadata with topics back to a TSV file\n",
    "df.to_csv(output_file, sep=\"\\t\", index=False)"
   ]
  }
 ],
 "metadata": {
  "kernelspec": {
   "display_name": "Python 3",
   "language": "python",
   "name": "python3"
  },
  "language_info": {
   "codemirror_mode": {
    "name": "ipython",
    "version": 3
   },
   "file_extension": ".py",
   "mimetype": "text/x-python",
   "name": "python",
   "nbconvert_exporter": "python",
   "pygments_lexer": "ipython3",
   "version": "3.12.2"
  }
 },
 "nbformat": 4,
 "nbformat_minor": 2
}
