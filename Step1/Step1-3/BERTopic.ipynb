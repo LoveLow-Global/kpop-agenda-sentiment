{
 "cells": [
  {
   "cell_type": "code",
   "execution_count": null,
   "metadata": {},
   "outputs": [],
   "source": [
    "import pandas as pd\n",
    "from bertopic import BERTopic\n",
    "from hdbscan import HDBSCAN\n",
    "from umap import UMAP\n",
    "from sentence_transformers import SentenceTransformer\n",
    "from konlpy.tag import Okt\n",
    "from transformers import AutoTokenizer, AutoModel\n"
   ]
  },
  {
   "cell_type": "code",
   "execution_count": null,
   "metadata": {},
   "outputs": [],
   "source": [
    "# Define file paths using double backslashes\n",
    "input_file = \"C:\\\\Users\\\\WINDOWS11\\\\Desktop\\\\kpop_agenda\\\\Step1\\\\metadata_top300_filtered.tsv\"\n",
    "output_file = \"C:\\\\Users\\\\WINDOWS11\\\\Desktop\\\\kpop_agenda\\\\Step1\\\\metadata_top300_filtered_with_topics.tsv\"\n",
    "\n",
    "# Load the metadata TSV file\n",
    "df = pd.read_csv(input_file, sep=\"\\t\")"
   ]
  },
  {
   "cell_type": "code",
   "execution_count": null,
   "metadata": {},
   "outputs": [],
   "source": [
    "# Initialize the Korean tokenizer\n",
    "okt = Okt()\n",
    "\n",
    "# Function to read text content from a file path\n",
    "def read_article(file_path):\n",
    "    try:\n",
    "        with open(file_path, 'r', encoding='utf-8') as f:\n",
    "            return f.read()\n",
    "    except Exception as e:\n",
    "        print(f\"Error reading {file_path}: {e}\")\n",
    "        return \"\"\n",
    "\n",
    "# Preprocessing function for Korean text using KoNLPy's Okt\n",
    "def preprocess_text(text):\n",
    "    # Tokenize text into morphemes\n",
    "    tokens = okt.morphs(text)\n",
    "    # Join tokens back into a space-separated string\n",
    "    return \" \".join(tokens)"
   ]
  },
  {
   "cell_type": "code",
   "execution_count": null,
   "metadata": {},
   "outputs": [],
   "source": [
    "# Read and preprocess the article texts using the file_path column\n",
    "documents = [preprocess_text(read_article(fp)) for fp in df['file_path']]"
   ]
  },
  {
   "cell_type": "code",
   "execution_count": null,
   "metadata": {},
   "outputs": [],
   "source": [
    "# Set up UMAP with custom parameters (option 3)\n",
    "umap_model = UMAP(n_neighbors=9, n_components=5, min_dist=0.1, random_state=119)"
   ]
  },
  {
   "cell_type": "code",
   "execution_count": null,
   "metadata": {},
   "outputs": [],
   "source": [
    "# Set up HDBSCAN with custom parameters (option 1)\n",
    "hdbscan_model = HDBSCAN(min_cluster_size=17, min_samples=2, cluster_selection_method='eom')"
   ]
  },
  {
   "cell_type": "code",
   "execution_count": null,
   "metadata": {},
   "outputs": [],
   "source": [
    "# Initialize BERTopic with the custom UMAP and HDBSCAN models\n",
    "topic_model = BERTopic(umap_model=umap_model, hdbscan_model=hdbscan_model, verbose=True)"
   ]
  },
  {
   "cell_type": "code",
   "execution_count": null,
   "metadata": {},
   "outputs": [],
   "source": [
    "# Initialize the SentenceTransformer model \n",
    "embedding_model = SentenceTransformer(\"jhgan/ko-sbert-sts\") \n",
    "\n",
    "# Compute embeddings with a specified batch size to control the number of batches\n",
    "embeddings = embedding_model.encode(documents, show_progress_bar=True, batch_size=4)\n",
    "\n",
    "# Use the precomputed embeddings in BERTopic\n",
    "topics, probs = topic_model.fit_transform(documents, embeddings)\n",
    "\n",
    "# Add the topic assignments as a new column to the DataFrame\n",
    "df['topic_type'] = topics\n",
    "\n",
    "# Save the updated DataFrame to a new TSV file\n",
    "df.to_csv(output_file, sep=\"\\t\", index=False)\n",
    "print(f\"Topic modeling complete. Output saved to {output_file}\")"
   ]
  },
  {
   "cell_type": "code",
   "execution_count": null,
   "metadata": {},
   "outputs": [],
   "source": [
    "topics, probs = topic_model.fit_transform(documents, embeddings)\n",
    "\n",
    "df['topic_type'] = topics\n",
    "df.to_csv(output_file, sep=\"\\t\", index=False)\n",
    "\n",
    "# Get the number of unique topics (excluding -1, which represents outliers/noise)\n",
    "num_topics = len(set(topics)) - 1 if -1 in topics else len(set(topics)) # handles if there is -1 or not\n",
    "\n",
    "print(f\"Number of topics: {num_topics}\")  # Print the number of topics\n",
    "\n"
   ]
  }
 ],
 "metadata": {
  "kernelspec": {
   "display_name": "Python 3",
   "language": "python",
   "name": "python3"
  },
  "language_info": {
   "codemirror_mode": {
    "name": "ipython",
    "version": 3
   },
   "file_extension": ".py",
   "mimetype": "text/x-python",
   "name": "python",
   "nbconvert_exporter": "python",
   "pygments_lexer": "ipython3",
   "version": "3.12.2"
  }
 },
 "nbformat": 4,
 "nbformat_minor": 2
}
