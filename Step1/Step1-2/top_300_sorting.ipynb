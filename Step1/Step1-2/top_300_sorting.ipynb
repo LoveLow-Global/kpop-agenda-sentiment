{
 "cells": [
  {
   "cell_type": "code",
   "execution_count": 3,
   "metadata": {},
   "outputs": [],
   "source": [
    "import pandas as pd"
   ]
  },
  {
   "cell_type": "code",
   "execution_count": 1,
   "metadata": {},
   "outputs": [],
   "source": [
    "# Define file paths\n",
    "input_file = \"C:\\\\Users\\\\WINDOWS11\\\\Desktop\\\\kpop_agenda\\\\Step1\\\\metadata_filtered.tsv\"\n",
    "output_file = \"C:\\\\Users\\\\WINDOWS11\\\\Desktop\\\\kpop_agenda\\\\Step1\\\\top300_filtered.tsv\""
   ]
  },
  {
   "cell_type": "code",
   "execution_count": 4,
   "metadata": {},
   "outputs": [],
   "source": [
    "# Read the TSV file\n",
    "df = pd.read_csv(input_file, delimiter=\"\\t\")\n",
    "\n",
    "# Sort the dataframe by 'views' in descending order\n",
    "df_sorted = df.sort_values(\"views\", ascending=False)\n",
    "\n",
    "# Prepare lists for storing selected rows and tracking unique_article_IDs\n",
    "selected_rows = []\n",
    "selected_ids = set()\n",
    "\n",
    "# Iterate over the sorted rows\n",
    "for _, row in df_sorted.iterrows():\n",
    "    # Check if the unique_article_ID has already been added\n",
    "    if row[\"unique_article_ID\"] in selected_ids:\n",
    "        continue\n",
    "    # Add the row and mark the unique_article_ID as used\n",
    "    selected_rows.append(row)\n",
    "    selected_ids.add(row[\"unique_article_ID\"])\n",
    "    \n",
    "    # Stop when we have selected 300 rows\n",
    "    if len(selected_rows) == 300:\n",
    "        break\n",
    "\n"
   ]
  },
  {
   "cell_type": "code",
   "execution_count": 5,
   "metadata": {},
   "outputs": [],
   "source": [
    "# Create a new DataFrame from the selected rows\n",
    "result_df = pd.DataFrame(selected_rows)"
   ]
  },
  {
   "cell_type": "code",
   "execution_count": 6,
   "metadata": {},
   "outputs": [],
   "source": [
    "# Write the new DataFrame to a TSV file\n",
    "result_df.to_csv(output_file, sep=\"\\t\", index=False)"
   ]
  },
  {
   "cell_type": "code",
   "execution_count": null,
   "metadata": {},
   "outputs": [],
   "source": []
  }
 ],
 "metadata": {
  "kernelspec": {
   "display_name": "Python 3",
   "language": "python",
   "name": "python3"
  },
  "language_info": {
   "codemirror_mode": {
    "name": "ipython",
    "version": 3
   },
   "file_extension": ".py",
   "mimetype": "text/x-python",
   "name": "python",
   "nbconvert_exporter": "python",
   "pygments_lexer": "ipython3",
   "version": "3.12.2"
  }
 },
 "nbformat": 4,
 "nbformat_minor": 2
}
