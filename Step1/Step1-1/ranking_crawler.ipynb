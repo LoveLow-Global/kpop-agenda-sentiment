{
 "cells": [
  {
   "cell_type": "code",
   "execution_count": 3,
   "metadata": {},
   "outputs": [],
   "source": [
    "import requests\n",
    "from bs4 import BeautifulSoup\n",
    "from selenium import webdriver\n",
    "from selenium.webdriver.common.by import By\n",
    "from selenium.webdriver.support.ui import WebDriverWait\n",
    "from selenium.webdriver.support import expected_conditions as EC\n",
    "import time\n",
    "import os\n",
    "import csv\n",
    "from datetime import date, timedelta"
   ]
  },
  {
   "cell_type": "code",
   "execution_count": 4,
   "metadata": {},
   "outputs": [],
   "source": [
    "BASE_DIR = \"C:\\\\Users\\\\WINDOWS11\\\\Desktop\\\\kpop_agenda\\\\Step1\\\\Articles\"  # Adjust if needed"
   ]
  },
  {
   "cell_type": "code",
   "execution_count": null,
   "metadata": {},
   "outputs": [],
   "source": [
    "def fetch_html(url):\n",
    "    time.sleep(1 + 2 * time.random())  # Sleep 1-3 seconds\n",
    "    headers = {\"User-Agent\": \"Mozilla/5.0\"}  # Mimic a browser\n",
    "    try:\n",
    "        response = requests.get(url, headers=headers)\n",
    "        response.raise_for_status() # Raise exception for status codes 400, 500\n",
    "        return BeautifulSoup(response.content, \"html.parser\")\n",
    "    except requests.exceptions.RequestException as e:\n",
    "        print(f\"Error fetching {url}: {e}\")\n",
    "        return None"
   ]
  },
  {
   "cell_type": "code",
   "execution_count": 6,
   "metadata": {},
   "outputs": [],
   "source": [
    "def get_articles_for_day(ymd, max_articles=10):\n",
    "    ranking_url = f\"https://m.entertain.naver.com/ranking?rankingDate={ymd}\"\n",
    "\n",
    "    # Use Selenium for dynamic content loading\n",
    "    driver = webdriver.Chrome()  # Make sure ChromeDriver is in your PATH\n",
    "    driver.get(ranking_url)\n",
    "\n",
    "    try:\n",
    "        element_present = EC.presence_of_element_located((By.CSS_SELECTOR, 'li.NewsItem_news_item__fhEmd')) # Wait for articles to load\n",
    "        WebDriverWait(driver, 10).until(element_present)\n",
    "    except:\n",
    "        print(\"Timed out waiting for element\")\n",
    "        driver.quit()\n",
    "        return [] # Return empty list if scraping fails\n",
    "\n",
    "    soup = BeautifulSoup(driver.page_source, \"html.parser\") # Get rendered HTML\n",
    "    driver.quit()\n",
    "\n",
    "    article_nodes = soup.select(\"li.NewsItem_news_item__fhEmd\")\n",
    "\n",
    "    articles = []\n",
    "    for i, node in enumerate(article_nodes[:min(len(article_nodes), max_articles)]):\n",
    "        rank_tag = node.select_one(\"div.NewsItem_rank_area__wqmaA span.blind\")\n",
    "        rank = int(rank_tag.text) if rank_tag else 0\n",
    "\n",
    "        a_tag = node.select_one(\"a\")\n",
    "        link = a_tag[\"href\"] if a_tag else \"\"\n",
    "\n",
    "        title_tag = node.select_one(\"em.NewsItem_title__BXkJ6\")\n",
    "        title = title_tag.text if title_tag else \"\"\n",
    "\n",
    "        views_tag = node.select_one(\"span.NewsItem_view__Tep-c\")\n",
    "        views_str = views_tag.text.replace(\"조회수\", \"\").replace(\",\", \"\").strip() if views_tag else \"\"\n",
    "        views = int(views_str) if views_str.isdigit() else 0\n",
    "\n",
    "        company = link.split(\"/\")[-2] if link else \"unknown\"\n",
    "\n",
    "        file_path = os.path.join(BASE_DIR, f\"{ymd}_article_{i+1}.txt\")\n",
    "        articles.append([0, rank, views, company, title, link, file_path])\n",
    "\n",
    "    return articles\n"
   ]
  },
  {
   "cell_type": "code",
   "execution_count": null,
   "metadata": {},
   "outputs": [],
   "source": [
    "def main():\n",
    "    start_date = date(2024, 1, 1)\n",
    "    end_date = date(2024, 12, 31)\n",
    "\n",
    "    all_articles = []\n",
    "    article_id = 1\n",
    "\n",
    "    current_date = start_date\n",
    "    while current_date <= end_date:\n",
    "        ymd = current_date.strftime(\"%Y%m%d\")\n",
    "        try:\n",
    "            daily_articles = get_articles_for_day(ymd)\n",
    "            for article in daily_articles:\n",
    "                article[0] = article_id  # Set ID\n",
    "                all_articles.append(article)\n",
    "                article_id += 1\n",
    "        except Exception as e:\n",
    "            print(f\"Error on date {ymd}: {e}\")\n",
    "\n",
    "        current_date += timedelta(days=1)\n",
    "\n",
    "    # Write to TSV\n",
    "    with open(os.path.join(BASE_DIR, \"articles_metadata.tsv\"), \"w\", newline=\"\", encoding=\"utf-8\") as tsvfile:\n",
    "        writer = csv.writer(tsvfile, delimiter=\"\\t\")\n",
    "        writer.writerow([\"ID\", \"rank\", \"views\", \"company\", \"title\", \"link\", \"file_path\"])  # Header row\n",
    "        writer.writerows(all_articles)\n",
    "\n",
    "    print(\"Done! Saved TSV to:\", os.path.join(BASE_DIR, \"articles_metadata.tsv\"))\n",
    "\n",
    "\n",
    "if __name__ == \"__main__\":\n",
    "    main()"
   ]
  }
 ],
 "metadata": {
  "kernelspec": {
   "display_name": "Python 3",
   "language": "python",
   "name": "python3"
  },
  "language_info": {
   "codemirror_mode": {
    "name": "ipython",
    "version": 3
   },
   "file_extension": ".py",
   "mimetype": "text/x-python",
   "name": "python",
   "nbconvert_exporter": "python",
   "pygments_lexer": "ipython3",
   "version": "3.12.2"
  }
 },
 "nbformat": 4,
 "nbformat_minor": 2
}
