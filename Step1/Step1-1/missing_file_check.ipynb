{
 "cells": [
  {
   "cell_type": "code",
   "execution_count": 1,
   "metadata": {},
   "outputs": [],
   "source": [
    "import os\n",
    "import datetime"
   ]
  },
  {
   "cell_type": "code",
   "execution_count": 2,
   "metadata": {},
   "outputs": [
    {
     "name": "stdout",
     "output_type": "stream",
     "text": [
      "Missing article files:\n",
      "C:\\Users\\WINDOWS11\\Desktop\\kpop_agenda\\Step1\\Articles\\20240729_article_5.txt\n",
      "C:\\Users\\WINDOWS11\\Desktop\\kpop_agenda\\Step1\\Articles\\20241223_article_4.txt\n"
     ]
    }
   ],
   "source": [
    "def find_missing_articles(base_dir):\n",
    "    \"\"\"\n",
    "    Finds missing article files in a directory based on date and article number.\n",
    "\n",
    "    Args:\n",
    "        base_dir: The base directory containing the article files.\n",
    "    \"\"\"\n",
    "    start_date = datetime.date(2024, 1, 1)\n",
    "    end_date = datetime.date(2024, 12, 31)\n",
    "    max_articles_per_day = 10\n",
    "\n",
    "    missing_articles = []\n",
    "    current_date = start_date\n",
    "    while current_date <= end_date:\n",
    "        date_str = current_date.strftime(\"%Y%m%d\")\n",
    "        for article_num in range(1, max_articles_per_day + 1):\n",
    "            file_path = os.path.join(base_dir, f\"{date_str}_article_{article_num}.txt\")\n",
    "            if not os.path.exists(file_path):\n",
    "                missing_articles.append(file_path)\n",
    "        current_date += datetime.timedelta(days=1)\n",
    "\n",
    "    return missing_articles\n",
    "\n",
    "\n",
    "if __name__ == \"__main__\":\n",
    "    base_dir = \"C:\\\\Users\\\\WINDOWS11\\\\Desktop\\\\kpop_agenda\\\\Step1\\\\Articles\"  # Replace with your actual directory\n",
    "    missing = find_missing_articles(base_dir)\n",
    "    if missing:\n",
    "        print(\"Missing article files:\")\n",
    "        for file_path in missing:\n",
    "            print(file_path)\n",
    "    else:\n",
    "        print(\"No missing article files found.\")"
   ]
  },
  {
   "cell_type": "code",
   "execution_count": null,
   "metadata": {},
   "outputs": [],
   "source": []
  }
 ],
 "metadata": {
  "kernelspec": {
   "display_name": "Python 3",
   "language": "python",
   "name": "python3"
  },
  "language_info": {
   "codemirror_mode": {
    "name": "ipython",
    "version": 3
   },
   "file_extension": ".py",
   "mimetype": "text/x-python",
   "name": "python",
   "nbconvert_exporter": "python",
   "pygments_lexer": "ipython3",
   "version": "3.12.2"
  }
 },
 "nbformat": 4,
 "nbformat_minor": 2
}
